{
 "cells": [
  {
   "cell_type": "code",
   "execution_count": 1,
   "id": "a9e3d9a1",
   "metadata": {},
   "outputs": [],
   "source": [
    "%load_ext autoreload\n",
    "%autoreload 2"
   ]
  },
  {
   "cell_type": "code",
   "execution_count": 2,
   "id": "c414d3d1",
   "metadata": {},
   "outputs": [],
   "source": [
    "import uproot\n",
    "import awkward as ak\n",
    "import hist\n",
    "import coffea\n",
    "from coffea.nanoevents import NanoAODSchema, NanoEventsFactory\n",
    "import mplhep as hep\n",
    "\n",
    "import numpy as np\n",
    "import matplotlib.pyplot as plt\n",
    "from matplotlib import cm\n",
    "from matplotlib import colors\n",
    "\n",
    "import glob\n",
    "import sys\n",
    "import os\n",
    "\n",
    "sys.path.append(os.path.dirname(sys.path[0])) # append project directory to path for import\n",
    "os.chdir(os.path.dirname(sys.path[0])) # change current working directory to project directory\n",
    "from processor.schema import JMENanoAODSchema, ScoutingJMENanoAODSchema\n",
    "from processor.processor import OHProcessor"
   ]
  },
  {
   "cell_type": "code",
   "execution_count": 3,
   "id": "2475e315",
   "metadata": {},
   "outputs": [],
   "source": [
    "hep.style.use(\"CMS\")"
   ]
  },
  {
   "cell_type": "code",
   "execution_count": 4,
   "id": "e1a2d1e7",
   "metadata": {},
   "outputs": [],
   "source": [
    "input_dir = \"/eos/user/a/adlintul/QCD_Pt-15To7000_TuneCP5_13p6TeV_pythia8/Run3Summer22\"\n",
    "input_dir = \"/data/data/ScoutingJMENano/ScoutingPFMonitor/Run3Summer22\"\n",
    "input_dir = \"/data/data/ScoutingJMENano/QCD_Pt-15To7000_TuneCP5_13p6TeV_pythia8/Run3Summer22\"\n",
    "input_dir = \"/data/data/JME_NANO_DATA/2022/JMENanoRun3_v2p1_Run2022D-PromptReco-v2/JetMET\"\n",
    "#input_dir = \"/data/data/JME_NANO_MC/2022/QCD_Pt-15to7000_TuneCP5_Flat_13p6TeV_pythia8/JMENanoRun3_v2p1_MC22_122\"\n",
    "\n",
    "filelist = glob.glob(os.path.join(input_dir, \"*/*/*.root\"))"
   ]
  },
  {
   "cell_type": "code",
   "execution_count": 5,
   "id": "1eeea747",
   "metadata": {},
   "outputs": [
    {
     "name": "stdout",
     "output_type": "stream",
     "text": [
      "file: /data/data/JME_NANO_DATA/2022/JMENanoRun3_v2p1_Run2022D-PromptReco-v2/JetMET/220915_173253/0000/tree_393.root\n",
      "size: 447.179081 MB\n"
     ]
    }
   ],
   "source": [
    "filesize = [os.path.getsize(file) for file in filelist]\n",
    "maxsize_idx = np.argmax(filesize)\n",
    "fname = filelist[maxsize_idx]\n",
    "print(\"file: {}\\nsize: {} MB\".format(fname, filesize[maxsize_idx]/1e6))\n",
    "events = NanoEventsFactory.from_root(\n",
    "            fname, \n",
    "            schemaclass=ScoutingJMENanoAODSchema,\n",
    "            metadata={\"dataset\": \"test\"}\n",
    "            ).events()"
   ]
  },
  {
   "cell_type": "code",
   "execution_count": 6,
   "id": "8ec06c43",
   "metadata": {},
   "outputs": [],
   "source": [
    "weight_filelist = [\"corrections/JEC/Winter22Run3_V2_MC/Winter22Run3_V2_MC_L1FastJet_AK4PFPuppi.txt\",\n",
    "                   #\"corrections/Winter22Run3_V2_MC/Winter22Run3_V2_MC_L2Residual_AK4PFPuppi.txt\",\n",
    "                   \"corrections/JEC/Winter22Run3_V2_MC/Winter22Run3_V2_MC_L2Relative_AK4PFPuppi.txt\",\n",
    "                   \"corrections/JEC/Winter22Run3_V2_MC/Winter22Run3_V2_MC_L3Absolute_AK4PFPuppi.txt\",\n",
    "                   \"corrections/JEC/Winter22Run3_V2_MC/Winter22Run3_V2_MC_L2L3Residual_AK4PFPuppi.txt\",\n",
    "                   \"corrections/JEC/Winter22Run3_V2_MC/Winter22Run3_V2_MC_Uncertainty_AK4PFPuppi.junc.txt\"]\n",
    "lumi_json_path = \"corrections/lumimask/Cert_Collisions2022_355100_362439_Golden.json\"\n",
    "lumi_csv_path = \"corrections/lumidata/lumi2022.csv\""
   ]
  },
  {
   "cell_type": "code",
   "execution_count": 7,
   "id": "8e01bf02",
   "metadata": {},
   "outputs": [
    {
     "data": {
      "text/plain": [
       "<PtEtaPhiMCollectionArray [[None, None, None, ... None, None]] type='62544 * var...'>"
      ]
     },
     "execution_count": 7,
     "metadata": {},
     "output_type": "execute_result"
    }
   ],
   "source": [
    "events.Jet.nearest(events.TrigObjJMEAK4)"
   ]
  },
  {
   "cell_type": "code",
   "execution_count": 8,
   "id": "3cdfd919",
   "metadata": {},
   "outputs": [],
   "source": [
    "p = OHProcessor(off_jet_name=\"Jet\", off_jet_label=\"AK4PUPPI\",\n",
    "                on_jet_name=\"TrigObjJMEAK4\", on_jet_label=\"AK4HLT\",\n",
    "                #on_jet_name=\"ScoutingJet\", on_jet_label=\"AK4Scouting\",\n",
    "                save_processed_lumi=True,\n",
    "                compute_processed_lumi=False,\n",
    "                lumi_json_path=None, #lumi_json_path,\n",
    "                lumi_csv_path=None, #lumi_csv_path,\n",
    "                trigger_min_pt=None,\n",
    "                off_jet_weight_filelist= None, #weight_filelist,\n",
    "                on_jet_weight_filelist=None,\n",
    "                off_rho_name=\"Rho_fixedGridRhoFastjetAll\", \n",
    "                on_rho_name=\"Rho_fixedGridRhoFastjetAll\",\n",
    "                off_jet_tag_probe=False,\n",
    "                on_jet_tag_probe=False,\n",
    "                off_jet_tag_min_pt=20,\n",
    "                on_jet_tag_min_pt=20,\n",
    "                use_tag_probe = True,\n",
    "                tag_probe_tag_min_pt = 20,\n",
    "                is_data=True,\n",
    "                mix_correction_level=False,\n",
    "                pt_binning=\"log\",\n",
    "                eta_binning=\"fine\",\n",
    "                fill_gen=False,\n",
    "                gen_jet_name=\"GenJet\",\n",
    "                gen_jet_label=\"Gen\",\n",
    "                gen_jet_tag_probe=False,\n",
    "                gen_jet_tag_min_pt=20,\n",
    "                ave_jet=False,\n",
    "                use_weight=False,\n",
    "                hist_to_fill= \"1d\" #\"tp_response tp_diff_ratio tp_pt_balance tp_mpf\"\n",
    "               )"
   ]
  },
  {
   "cell_type": "code",
   "execution_count": 9,
   "id": "4cd52636",
   "metadata": {},
   "outputs": [
    {
     "data": {
      "text/plain": [
       "{'cutflow': {'test': defaultdict(int,\n",
       "              {'all events': 62544,\n",
       "               'lumimask': 62544,\n",
       "               'NPV > 0': 62535,\n",
       "               'PV |z| < 24 cm': 62535,\n",
       "               'PV |r_xy| < 2 cm': 62535,\n",
       "               'AK4PUPPI >= 1': 62528,\n",
       "               'AK4HLT >= 1': 5189,\n",
       "               'trigger PFJetNone (None)': 5189,\n",
       "               'AK4PUPPI: jet id None': 5189,\n",
       "               'AK4HLT: jet id None': 5189,\n",
       "               'AK4PUPPI: jet veto map (off)': 5189,\n",
       "               'AK4HLT: jet veto map (off)': 5189,\n",
       "               'AK4PUPPI: JEC (off)': 5189,\n",
       "               'AK4HLT: JEC (off)': 5189,\n",
       "               'T&P: Jet and TrigObjJMEAK4': 1371,\n",
       "               'delta R < 0.2': 870})},\n",
       " 'processed_lumi': {'test': {'lumi_list': <processor.accumulator.LumiAccumulator at 0x7fadec11a820>}},\n",
       " 'jet_pt': Hist(\n",
       "   StrCategory(['test'], growth=True, name='dataset', label='Primary Dataset'),\n",
       "   StrCategory(['AK4PUPPI_Original', 'AK4HLT_Original'], name='jet_type', label='Types of Jet'),\n",
       "   Regular(50, 1, 10000, transform=log, name='jet_pt', label='$p_T^{jet}$'),\n",
       "   storage=Weight()) # Sum: WeightedSum(value=3118, variance=3118),\n",
       " 'jet_eta': Hist(\n",
       "   StrCategory(['test'], growth=True, name='dataset', label='Primary Dataset'),\n",
       "   StrCategory(['AK4PUPPI', 'AK4HLT'], name='jet_type', label='Types of Jet'),\n",
       "   Variable(array([-5.191, -4.889, -4.716, -4.538, -4.363, -4.191, -4.013, -3.839,\n",
       "        -3.664, -3.489, -3.314, -3.139, -2.964, -2.853, -2.65 , -2.5  ,\n",
       "        -2.322, -2.172, -2.043, -1.93 , -1.83 , -1.74 , -1.653, -1.566,\n",
       "        -1.479, -1.392, -1.305, -1.218, -1.131, -1.044, -0.957, -0.879,\n",
       "        -0.783, -0.696, -0.609, -0.522, -0.435, -0.348, -0.261, -0.174,\n",
       "        -0.087,  0.   ,  0.087,  0.174,  0.261,  0.348,  0.435,  0.522,\n",
       "         0.609,  0.696,  0.783,  0.879,  0.957,  1.044,  1.131,  1.218,\n",
       "         1.305,  1.392,  1.479,  1.566,  1.653,  1.74 ,  1.83 ,  1.93 ,\n",
       "         2.043,  2.172,  2.322,  2.5  ,  2.65 ,  2.853,  2.964,  3.139,\n",
       "         3.314,  3.489,  3.664,  3.839,  4.013,  4.191,  4.363,  4.538,\n",
       "         4.716,  4.889,  5.191]), name='jet_eta', label='$\\\\eta^{jet}$'),\n",
       "   storage=Weight()) # Sum: WeightedSum(value=3118, variance=3118),\n",
       " 'jet_phi': Hist(\n",
       "   StrCategory(['test'], growth=True, name='dataset', label='Primary Dataset'),\n",
       "   StrCategory(['AK4PUPPI', 'AK4HLT'], name='jet_type', label='Types of Jet'),\n",
       "   Regular(50, -3.14159, 3.14159, circular=True, name='jet_phi', label='$\\\\phi^{jet}$'),\n",
       "   storage=Weight()) # Sum: WeightedSum(value=3118, variance=3118)}"
      ]
     },
     "execution_count": 9,
     "metadata": {},
     "output_type": "execute_result"
    }
   ],
   "source": [
    "#%%timeit\n",
    "out = p.process(events)\n",
    "#out = p.postprocess(out)\n",
    "out"
   ]
  },
  {
   "cell_type": "code",
   "execution_count": 10,
   "id": "bb46a33e",
   "metadata": {},
   "outputs": [
    {
     "ename": "KeyError",
     "evalue": "'tp_response'",
     "output_type": "error",
     "traceback": [
      "\u001b[0;31m---------------------------------------------------------------------------\u001b[0m",
      "\u001b[0;31mKeyError\u001b[0m                                  Traceback (most recent call last)",
      "Cell \u001b[0;32mIn[10], line 1\u001b[0m\n\u001b[0;32m----> 1\u001b[0m \u001b[43mout\u001b[49m\u001b[43m[\u001b[49m\u001b[38;5;124;43m\"\u001b[39;49m\u001b[38;5;124;43mtp_response\u001b[39;49m\u001b[38;5;124;43m\"\u001b[39;49m\u001b[43m]\u001b[49m\n",
      "\u001b[0;31mKeyError\u001b[0m: 'tp_response'"
     ]
    }
   ],
   "source": [
    "out[\"tp_response\"]"
   ]
  },
  {
   "cell_type": "code",
   "execution_count": null,
   "id": "d52f4585",
   "metadata": {},
   "outputs": [],
   "source": [
    "# fig, ax = plt.subplots()\n",
    "# out[\"pt_response\"][{\"dataset\":\"test\", \"correction_level\":\"off=Original:on=Original\", \n",
    "#                     \"jet_type\":\"Gen\", \"jet_eta\":slice(-1.3j, 1.3j, sum), \"jet_phi\":sum}].plot(ax=ax)\n",
    "# ax.set_xscale(\"log\")"
   ]
  },
  {
   "cell_type": "code",
   "execution_count": null,
   "id": "1d3a54ff",
   "metadata": {},
   "outputs": [],
   "source": [
    "# fig, ax = plt.subplots()\n",
    "# out[\"jet_pt\"][\"test\", [0, 2, -1], :].plot1d(ax=ax)\n",
    "# ax.set_xlim(0, 500)\n",
    "# hep.cms.label(**{\"label\":\"private\", \"loc\":0, \"data\":False, \"year\":\"2022D\", \"com\":13.6})\n",
    "# ax.legend()"
   ]
  }
 ],
 "metadata": {
  "kernelspec": {
   "display_name": "Python [conda env:coffea] *",
   "language": "python",
   "name": "conda-env-coffea-py"
  },
  "language_info": {
   "codemirror_mode": {
    "name": "ipython",
    "version": 3
   },
   "file_extension": ".py",
   "mimetype": "text/x-python",
   "name": "python",
   "nbconvert_exporter": "python",
   "pygments_lexer": "ipython3",
   "version": "3.9.16"
  }
 },
 "nbformat": 4,
 "nbformat_minor": 5
}
