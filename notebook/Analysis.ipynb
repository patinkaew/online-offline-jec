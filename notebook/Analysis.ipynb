{
 "cells": [
  {
   "cell_type": "code",
   "execution_count": 1,
   "id": "13d36397",
   "metadata": {},
   "outputs": [],
   "source": [
    "%load_ext autoreload\n",
    "%autoreload 2"
   ]
  },
  {
   "cell_type": "code",
   "execution_count": 2,
   "id": "6f6e5f58",
   "metadata": {},
   "outputs": [],
   "source": [
    "import sys\n",
    "import os\n",
    "project_dir = \"/eos/user/p/pinkaew/research/online-offline-jec\"\n",
    "sys.path.append(project_dir) # append project directory to path for import\n",
    "os.chdir(project_dir) # change current working directory to project directory"
   ]
  },
  {
   "cell_type": "code",
   "execution_count": 14,
   "id": "528b1692",
   "metadata": {},
   "outputs": [],
   "source": [
    "import numpy as np\n",
    "import matplotlib.pyplot as plt\n",
    "from matplotlib import colors\n",
    "from matplotlib import cm\n",
    "#from matplotlib import colormaps\n",
    "\n",
    "import awkward as ak\n",
    "import uproot\n",
    "import hist\n",
    "import mplhep as hep\n",
    "import coffea\n",
    "from coffea import util as cutil\n",
    "from coffea.lumi_tools import LumiData\n",
    "\n",
    "import string\n",
    "import warnings\n",
    "from functools import partial\n",
    "import inspect\n",
    "\n",
    "import itertools\n",
    "from scipy import optimize\n",
    "from scipy import stats\n",
    "\n",
    "from util import *\n",
    "from analysis.analysis_util import *\n",
    "from analysis.plot import *"
   ]
  },
  {
   "cell_type": "code",
   "execution_count": 4,
   "id": "c747979f",
   "metadata": {},
   "outputs": [],
   "source": [
    "# configure plot style\n",
    "hep.style.use(\"CMS\")\n",
    "\n",
    "# global plot parameters\n",
    "eta_bin_coarse = [0, 1.3, 2.5, 3.0, 5.0]"
   ]
  },
  {
   "cell_type": "markdown",
   "id": "b56beee2",
   "metadata": {},
   "source": [
    "## Load Coffea output"
   ]
  },
  {
   "cell_type": "code",
   "execution_count": 5,
   "id": "4ec529eb",
   "metadata": {},
   "outputs": [],
   "source": [
    "output_dir = \"coffea_output\"\n",
    "#output_filename = \"QCD_2022_AK4PUPPI_AK4Scouting_notrigger_tagprobe20_tpbalance10_nothirdjet.coffea\"\n",
    "# output_filename = \"QCD_2022_AK4PUPPI_AK4Scouting_notrigger_tagprobe20_tp100.coffea\"\n",
    "# output_filename = \"QCD_2022_AK4PUPPI_AK4Scouting_notrigger_tagprobe20_tp100_switchtwo.coffea\"\n",
    "# output_filename = \"QCD_2022_AK4PUPPI_AK4Scouting_notrigger_tagprobe20_tp100_switchthree.coffea\"\n",
    "# output_filename = \"QCD_2022_AK4PUPPI_AK4Scouting_notrigger_tagprobe20_tp200_switchthree.coffea\"\n",
    "# output_filename = \"QCD_2022_AK4PUPPI_AK4Scouting_notrigger_tagprobe20_tp100_simul.coffea\"\n",
    "# output_filename = \"QCD_2022_AK4PUPPI_AK4Scouting_notrigger_tagprobe20_tp100_nearest.coffea\"\n",
    "# output_filename = \"QCD_2022_AK4PUPPI_AK4Scouting_notrigger_tagprobe20_tp100_switchthreeupdate.coffea\"\n",
    "# output_filename = \"QCD_2022_AK4PUPPI_AK4Scouting_notrigger_tagprobe20_min0_tp100_simul.coffea\"\n",
    "# output_filename = \"QCD_2022_AK4PUPPI_AK4Scouting_notrigger_tagprobe20_min20_tp100_simul.coffea\"\n",
    "# output_filename = \"QCD_2022_AK4PUPPI_AK4Scouting_notrigger_tagprobe20_min20_tp100_base.coffea\"\n",
    "# output_filename = \"QCD_2022_AK4PUPPI_AK4Scouting_notrigger_tagprobe20_min20_tp100_simul.coffea\"\n",
    "# output_filename = \"QCD_2022_AK4PUPPI_AK4Scouting_notrigger_tagprobe20_min20_tp100_switchthree.coffea\"\n",
    "#output_filename = \"QCD_2022_AK4PUPPI_AK4Scouting_notrigger_tagprobe20_tp100_simulupdate.coffea\"\n",
    "output_filename = \"QCD_2022_AK4PUPPI_AK4Scouting_notrigger_tagprobe20_min20_tp200.coffea\"\n",
    "#output_filename = \"QCD_2022_AK4PUPPI_AK4Scouting_notrigger_tagprobe20_min20_tightorder_opcut_alpha0p2_tp.coffea\"\n",
    "#output_filename = \"QCD_2022_AK4PUPPI_AK4Scouting_notrigger_tagprobe20_min20_mediumorder_opcut_puppi_alpha0p2_tp.coffea\"\n",
    "#output_filename = \"QCD_2022_AK4PUPPI_AK4Scouting_notrigger_tagprobe20_min20_mediumorder_puppi_alpha1_tp.coffea\"\n",
    "#output_filename = \"QCD_2022_AK4PUPPI_AK4Scouting_notrigger_tagprobe20_min20_mediumorder_opcut_puppi_alpha1_tp.coffea\"\n",
    "out = coffea.util.load(os.path.join(output_dir, os.path.splitext(output_filename)[0], output_filename))"
   ]
  },
  {
   "cell_type": "code",
   "execution_count": null,
   "id": "5999e4eb",
   "metadata": {},
   "outputs": [],
   "source": [
    "print(out.keys())\n",
    "#print_dict_json(out[\"arguments\"], \"arguments\")\n",
    "#print_dict_json(out[\"configurations\"], \"configurations\")"
   ]
  },
  {
   "cell_type": "markdown",
   "id": "baf7cd49",
   "metadata": {},
   "source": [
    "## Luminosity"
   ]
  },
  {
   "cell_type": "code",
   "execution_count": 8,
   "id": "fc19b273",
   "metadata": {},
   "outputs": [],
   "source": [
    "dataset = out[\"configurations\"][\"IO\"][\"dataset_names\"]"
   ]
  },
  {
   "cell_type": "code",
   "execution_count": 9,
   "id": "613303b5",
   "metadata": {},
   "outputs": [
    {
     "data": {
      "text/plain": [
       "'corrections/lumidata/2022/lumi2022F.csv'"
      ]
     },
     "execution_count": 9,
     "metadata": {},
     "output_type": "execute_result"
    }
   ],
   "source": [
    "year = 2022\n",
    "era = \"F\"\n",
    "lumi_csv_path = \"corrections/lumidata/{}/lumi{}.csv\".format(year, str(year)+era)\n",
    "lumi_csv_path"
   ]
  },
  {
   "cell_type": "code",
   "execution_count": 10,
   "id": "34ab0c40",
   "metadata": {},
   "outputs": [],
   "source": [
    "# goldenjson: https://twiki.cern.ch/twiki/bin/view/CMS/CertificationOfCollisions22\n",
    "# lumidata: https://twiki.cern.ch/twiki/bin/view/CMS/LumiRecommendationsRun3\n",
    "# brilcalc lumi --normtag /cvmfs/cms-bril.cern.ch/cms-lumi-pog/Normtags/normtag_BRIL.json -u /fb -i ../lumimask/Cert_Collisions2022_355100_362760_Golden.json -b \"STABLE BEAMS\" --byls --output-style csv > lumi2022.csv\n",
    "def compute_integrated_luminosity(out, lumi_csv_path, dataset=None, lumi=None):\n",
    "    from coffea.lumi_tools import LumiData\n",
    "    dataset = out[\"configurations\"][\"IO\"][\"dataset_names\"] if dataset is None else dataset\n",
    "    if eval(out[\"configurations\"][\"Processor\"][\"is_data\"]): # data\n",
    "        lumidata = LumiData(lumi_csv_path)\n",
    "        out[\"processed_lumi\"][dataset][\"lumi_list\"].unique() # apply unique\n",
    "        lumi = lumidata.get_lumi(out[\"processed_lumi\"][dataset][\"lumi_list\"])\n",
    "        out[\"processed_lumi\"][dataset][\"lumi\"] = lumi\n",
    "    else: # mc\n",
    "        # use the same lumi from data otherwise will sum all\n",
    "        if lumi is None:\n",
    "            lumidata = LumiData(lumi_csv_path)\n",
    "            lumi = np.sum(lumidata._lumidata[:, 2])\n",
    "        out[\"processed_lumi\"] = {dataset:{\"lumi_list\": None, \"lumi\": lumi}}\n",
    "    return lumi"
   ]
  },
  {
   "cell_type": "code",
   "execution_count": 11,
   "id": "b45695ac",
   "metadata": {},
   "outputs": [
    {
     "name": "stdout",
     "output_type": "stream",
     "text": [
      "integrated luminosity: 18.007 /fb\n"
     ]
    }
   ],
   "source": [
    "# compute integrated lumi\n",
    "lumi = compute_integrated_luminosity(out, lumi_csv_path)\n",
    "print(\"integrated luminosity: {:.3f} /fb\".format(lumi))"
   ]
  },
  {
   "cell_type": "code",
   "execution_count": 12,
   "id": "37da3663",
   "metadata": {},
   "outputs": [
    {
     "name": "stdout",
     "output_type": "stream",
     "text": [
      "{'label': 'Private Work', 'loc': 1, 'data': False, 'year': '2022F', 'rlabel': '(13.6 TeV)'}\n"
     ]
    }
   ],
   "source": [
    "# form hep_args\n",
    "hep_args = dict()\n",
    "hep_args[\"label\"] = \"Private Work\"\n",
    "hep_args[\"loc\"] = 1\n",
    "hep_args[\"data\"] = eval(out[\"configurations\"][\"Processor\"][\"is_data\"])\n",
    "hep_args[\"year\"] = str(year)+era\n",
    "lumi = out[\"processed_lumi\"][dataset][\"lumi\"]\n",
    "lumi_format = \"{:.3f}\"\n",
    "com = 13.6\n",
    "rlabel = \"(%s TeV)\"%(com)\n",
    "if hep_args[\"data\"]:\n",
    "    rlabel = r\"%s $fb^{-1}$\"%(lumi_format.format(lumi)) + rlabel \n",
    "hep_args[\"rlabel\"] = rlabel\n",
    "\n",
    "# mplhep version on SWAN is not latest\n",
    "# changing com does not work, so this is added manually through rlabel\n",
    "#hep_args[\"lumi\"] = out[\"processed_lumi\"][dataset][\"lumi\"]\n",
    "#hep_args[\"lumi_format\"] = \"{:.3f}\"\n",
    "#hep_args[\"com\"] = com\n",
    "print(hep_args)"
   ]
  },
  {
   "cell_type": "code",
   "execution_count": null,
   "id": "439e0ce0",
   "metadata": {},
   "outputs": [],
   "source": [
    "#hep.cms.label(**hep_args)"
   ]
  },
  {
   "cell_type": "markdown",
   "id": "66b3b9ab",
   "metadata": {},
   "source": [
    "## Cutflow"
   ]
  },
  {
   "cell_type": "code",
   "execution_count": null,
   "id": "d5013c89",
   "metadata": {},
   "outputs": [],
   "source": [
    "out[\"cutflow\"]"
   ]
  },
  {
   "cell_type": "markdown",
   "id": "6d0444fe",
   "metadata": {},
   "source": [
    "## 2D Correlation"
   ]
  },
  {
   "cell_type": "code",
   "execution_count": null,
   "id": "c3860127",
   "metadata": {},
   "outputs": [],
   "source": [
    "#from sklearn.decomposition import PCA\n",
    "\n",
    "# re-implement methods from TH2\n",
    "def get_stats(h):\n",
    "    assert len(h.axes.name) == 2, \"Histogram must be two dimensional\"\n",
    "    w = h.counts()\n",
    "    x = np.expand_dims(h.axes[0].centers, axis=1)\n",
    "    y = np.expand_dims(h.axes[1].centers, axis=0)\n",
    "    sumw = np.sum(w)\n",
    "    sumw2 = None\n",
    "    sumwx = np.sum(w*x)\n",
    "    sumwx2 = np.sum(w*(x*x))\n",
    "    sumwy = np.sum(w*y)\n",
    "    sumwy2 = np.sum(w*(y*y))\n",
    "    sumwxy = np.sum((w*x)*y)\n",
    "    \n",
    "    return {\"sumw\": sumw, \"sumw2\": None, \n",
    "            \"sumwx\": sumwx, \"sumwx2\":sumwx2, \n",
    "            \"sumwy\": sumwy, \"sumwy2\": sumwy2, \n",
    "            \"sumwxy\": sumwxy}\n",
    "\n",
    "def get_covariance(h):\n",
    "    assert len(h.axes.name) == 2, \"Histogram must be two dimensional\"\n",
    "    stats = get_stats(h)\n",
    "    return stats[\"sumwxy\"]/stats[\"sumw\"] - stats[\"sumwx\"]/stats[\"sumw\"]*stats[\"sumwy\"]/stats[\"sumw\"]\n",
    "\n",
    "def get_correlation_factor(h):\n",
    "    assert len(h.axes.name) == 2, \"Histogram must be two dimensional\"\n",
    "    stats = get_stats(h)\n",
    "    stdevx = np.sqrt(stats[\"sumwx2\"]/stats[\"sumw\"] - (stats[\"sumwx\"]/stats[\"sumw\"])**2)\n",
    "    stdevy = np.sqrt(stats[\"sumwy2\"]/stats[\"sumw\"] - (stats[\"sumwy\"]/stats[\"sumw\"])**2)\n",
    "    cov = stats[\"sumwxy\"]/stats[\"sumw\"] - stats[\"sumwx\"]/stats[\"sumw\"]*stats[\"sumwy\"]/stats[\"sumw\"]\n",
    "    return cov/stdevx/stdevy\n",
    "\n",
    "def repeat_value_from_freq(values, freqs):\n",
    "    return list(itertools.chain.from_iterable([itertools.repeat(elem, n) for elem, n in zip(values, freqs)]))\n",
    "\n",
    "def build_points_from_histogram(h):\n",
    "    assert len(h.axes.name) == 2, \"Histogram must be two dimensional\"\n",
    "    w = h.counts()\n",
    "    x = h.axes[0].centers\n",
    "    y = h.axes[1].centers\n",
    "    values = itertools.product(x, y)\n",
    "    points = np.array(repeat_value_from_freq(values, w.reshape(-1)))\n",
    "    return points\n",
    "\n",
    "def compute_correlation(h):\n",
    "    points = build_points_from_histogram(h)\n",
    "    return stats.pearsonr(points[:, 0], points[:, 1])[0]\n",
    "\n",
    "def compute_pca(h):\n",
    "    points = build_points_from_histogram(h)\n",
    "    return PCA(n_components=2).fit(points)\n",
    "\n",
    "# example for converting to root\n",
    "# root_file = uproot.recreate(\"test_uproot_file.root\")\n",
    "# root_file[\"hist\"] = h_test.to_numpy()\n",
    "\n",
    "# histFile = ROOT.TFile.Open(\"test_uproot_file.root\")\n",
    "# dataHisto = histFile.Get(\"hist\")\n",
    "\n",
    "# dataHisto.GetCorrelationFactor()"
   ]
  },
  {
   "cell_type": "code",
   "execution_count": null,
   "id": "8c65ecf5",
   "metadata": {},
   "outputs": [],
   "source": [
    "def plot_online_offline_pt(out, dataset=\"QCD\", correction_level=\"Raw\", \n",
    "                           eta_range=None, phi_range=None,\n",
    "                           trigger_value=None, trigger_values=None,\n",
    "                           xscale=None, yscale=None, xlim=None, ylim=None,\n",
    "                           legend_title=None, \n",
    "                           hep_args=None, \n",
    "                           filename=None, dpi=100):\n",
    "    fig, ax = plt.subplots()\n",
    "    cmap = colormaps['rainbow']\n",
    "    #cmap.set_bad(\"k\")\n",
    "    cmap.set_under(\"w\")\n",
    "    \n",
    "    off_jet_label = out[\"configurations\"][\"Processor\"][\"off_jet_label\"]\n",
    "    on_jet_label = out[\"configurations\"][\"Processor\"][\"on_jet_label\"]\n",
    "    correction_level = format_correction_level(correction_level) # TODO: need to fix this\n",
    "    \n",
    "    \n",
    "    h = preprocess_histogram(out[\"comparison\"], dataset=dataset,\n",
    "                             correction_level=correction_level,\n",
    "                             jet_type=off_jet_label, # + \" (Matched Gen)\", \n",
    "                             eta_range=eta_range, phi_range=phi_range)\n",
    "    h = h.project(\"off_jet_pt\", \"on_jet_pt\")\n",
    "#     h_np = h.values() # convert to np\n",
    "#     h_np_norm = np.where(h_np < 1e7, h_np, 0)\n",
    "#     h_norm = hist.Hist(*h.axes, storage=hist.storage.Double())\n",
    "#     h.view()[:] = h_np_norm # convert back to hist\n",
    "    h.plot2d(ax=ax, cmap=cmap, alpha=1, norm=colors.LogNorm())\n",
    "    \n",
    "    \n",
    "    # compute correlation\n",
    "    corr = get_correlation_factor(h)\n",
    "    \n",
    "    # compute pca and plot first principal component (PC1)\n",
    "#     pca = compute_pca(h)\n",
    "#     pca_comp0 = pca.components_[0]\n",
    "#     pca_var0 = pca.explained_variance_[0]\n",
    "#     pca_scaled_comp0 = pca_comp0 * pca_var0  # scale component by its variance explanation power\n",
    "#     ax.plot([0, pca_scaled_comp0[0]], [0, pca_scaled_comp0[1]], \n",
    "#              label=\"PC1\", linewidth=1.5, color=\"black\")\n",
    "    \n",
    "    # plot y = x\n",
    "    ax.axline([1, 1], slope=1, color=\"k\", linestyle=\"dashed\")\n",
    "    ax.text(1e4, 8e3, \"y=x\", rotation=45, fontsize=20)\n",
    "    \n",
    "    # plot x=trigger_values and y=trigger_values\n",
    "    if trigger_values:\n",
    "        for value in trigger_values:\n",
    "            ax.axhline(y=value, color=\"k\", linestyle=\"dotted\", alpha=0.3)\n",
    "            ax.axvline(x=value, color=\"k\", linestyle=\"dotted\", alpha=0.3)\n",
    "    \n",
    "    # plot x=trigger_values and y=trigger_values (highlight)\n",
    "    if trigger_value:\n",
    "        ax.axhline(y=trigger_value, color=\"k\", linestyle=\"dotted\", alpha=1)\n",
    "        ax.axvline(x=trigger_value, color=\"k\", linestyle=\"dotted\", alpha=1)\n",
    "        \n",
    "    legend_title_list = [dataset]\n",
    "    if eta_range:\n",
    "        legend_title_list.append(format_eta_range_text(eta_range[0], eta_range[1], \n",
    "                                                       jet_name=off_jet_label, omit_zero=True))\n",
    "    legend_title_list.append(\"corr: {:.5f}\".format(corr))\n",
    "    if legend_title:\n",
    "        legend_title = \"\\n\".join([legend_title] + legend_title_list)\n",
    "    else:\n",
    "        legend_title = \"\\n\".join(legend_title_list)\n",
    "        \n",
    "    # TODO: need to move to better place...\n",
    "    off_correction_level, on_correction_level = extract_correction_level(correction_level)\n",
    "    off_jet_pt_axis_label = \"\\ \".join([off_jet_label, \"p_T\", \"({})\".format(off_correction_level)])\n",
    "    on_jet_pt_axis_label = \"\\ \".join([on_jet_label, \"p_T\", \"({})\".format(on_correction_level)])\n",
    "    ax.set_xlabel(r\"${}$\".format(off_jet_pt_axis_label))\n",
    "    ax.set_ylabel(r\"${}$\".format(on_jet_pt_axis_label))\n",
    "    ax.set_xlim(1, 10)\n",
    "    ax.set_xscale(\"log\")\n",
    "    \n",
    "    #return\n",
    "    # format and save plot\n",
    "    format_plot(fig, ax, xscale=xscale, yscale=yscale, xlim=xlim, ylim=ylim,\n",
    "                legend_title=legend_title, legend_args={\"title_fontsize\":20, \"fontsize\": 20},\n",
    "                hep_args=hep_args,\n",
    "                filename=filename, dpi=dpi)"
   ]
  },
  {
   "cell_type": "code",
   "execution_count": null,
   "id": "1b2ceb92",
   "metadata": {},
   "outputs": [],
   "source": [
    "plot_online_offline_pt(out, dataset=dataset, correction_level= \"Original\", #\"Original\", #\"off=Raw:on=Raw\",\n",
    "                       legend_title= \"Notitled\", #\"pvmatched\\nw/o T&P, w/ METfilters\",\n",
    "                       eta_range=(0, 1.3, True),\n",
    "                       xscale=\"log\", yscale=\"log\", xlim=(1, 6e4), ylim=(1, 6e4), \n",
    "                       hep_args=hep_args)"
   ]
  },
  {
   "cell_type": "code",
   "execution_count": null,
   "id": "41b226cd",
   "metadata": {},
   "outputs": [],
   "source": [
    "func_args = {\"out\": out, \n",
    "             \"dataset\": dataset, \"correction_level\": \"Original\", #\"Original\", #\"off=Raw:on=Raw\",\n",
    "             \"legend_title\":\"w/o METFilters\",\n",
    "             \"xscale\":\"linear\", \"yscale\":\"linear\", \"xlim\":(1, 1e4), \"ylim\":(1, 1e4), \n",
    "             \"hep_args\":hep_args}"
   ]
  },
  {
   "cell_type": "code",
   "execution_count": null,
   "id": "d3987728",
   "metadata": {},
   "outputs": [],
   "source": [
    "out[\"comparison\"]"
   ]
  },
  {
   "cell_type": "code",
   "execution_count": null,
   "id": "6581fd50",
   "metadata": {},
   "outputs": [],
   "source": [
    "plot_multiple_eta_bin(plot_online_offline_pt, eta_bin_plot=eta_bin_coarse, func_args=func_args, mirror=True)"
   ]
  },
  {
   "cell_type": "markdown",
   "id": "1d8f22ed",
   "metadata": {},
   "source": [
    "## Fit pt response in each pt-eta bin"
   ]
  },
  {
   "cell_type": "code",
   "execution_count": null,
   "id": "1dc38f4d",
   "metadata": {},
   "outputs": [],
   "source": [
    "def norm(x, A, mu, sigma):\n",
    "    return A * stats.norm.pdf(x, mu, sigma)\n",
    "\n",
    "def gamma(x, A, a, loc, scale):\n",
    "    return A * stats.gamma.pdf(x, a, loc, scale)\n",
    "\n",
    "def lognormal(x, A, mu, sigma, scale):\n",
    "    return A * stats.lognorm.pdf(x, sigma, mu, scale)\n",
    "\n",
    "def gumbel_r(x, A, loc, scale):\n",
    "    return A * stats.gumbel_r.pdf(x, loc, scale)\n",
    "\n",
    "def nct(x, A, df, nc, loc, scale):\n",
    "    return A * stats.nct.pdf(x, df, nc, loc, scale)"
   ]
  },
  {
   "cell_type": "code",
   "execution_count": null,
   "id": "88dffa82",
   "metadata": {},
   "outputs": [],
   "source": [
    "def fit_response(out, dataset=\"QCD\", correction_level=\"Original\", jet_type=\"PUPPI\",\n",
    "                 phi_range=None, # if range None, will integrate all\n",
    "                 plot=False,\n",
    "                 xscale=\"linear\", yscale=\"linear\", xlim=None, ylim=None,\n",
    "                 legend_title=None, hep_args=None, filename=None, dpi=100):\n",
    "    \n",
    "    correction_level = format_correction_level(correction_level)\n",
    "    h = preprocess_histogram(out[\"pt_response\"], dataset=dataset, correction_level=correction_level, \\\n",
    "                        jet_type=jet_type, phi_range=phi_range)\n",
    "    h = h.project(\"jet_pt\", \"jet_eta\", \"pt_response\")\n",
    "    \n",
    "    h_stats = compute_stats(h)\n",
    "    h_stats[\"fit_mean\"] = np.nan * np.ones_like(h_stats[\"mean\"])\n",
    "    h_stats[\"fit_stdev\"] = np.nan * np.ones_like(h_stats[\"stdev\"])\n",
    "    h_stats[\"fit_var\"] = np.nan * np.ones_like(h_stats[\"var\"])\n",
    "    h_stats[\"fit_mean_error\"] = np.nan * np.ones_like(h_stats[\"mean_error\"])\n",
    "    \n",
    "    #return h_stats\n",
    "    \n",
    "    if plot:\n",
    "        x_plot = np.linspace(h.axes[-1].edges[0], h.axes[-1].edges[-1], 500)\n",
    "    \n",
    "    for pt_bin_idx in range(len(h.axes[0])):\n",
    "        pt_range_text = format_pt_range_text(*h.axes[0][pt_bin_idx], jet_name=jet_type, omit_zero=False)\n",
    "        for eta_bin_idx in range(len(h.axes[1])):\n",
    "            eta_range_text = format_eta_range_text(*h.axes[1][eta_bin_idx], jet_name=jet_type, \\\n",
    "                                                   absolute=False, omit_zero=False)\n",
    "            \n",
    "            h_resp = h[pt_bin_idx, eta_bin_idx, :]\n",
    "            xdata = h_stats[\"centers\"]\n",
    "            ydata = h_stats[\"freqs\"][pt_bin_idx, eta_bin_idx]\n",
    "            yerr = np.sqrt(h_resp.variances())\n",
    "            mask = (yerr != 0.0)\n",
    "            xdata = xdata[mask]\n",
    "            ydata = ydata[mask]\n",
    "            yerr = yerr[mask]\n",
    "            total = np.sum(ydata)\n",
    "            num_nonzero_bins = np.sum(ydata > 0)\n",
    "            \n",
    "            if (num_nonzero_bins < 2) or (total < 50):\n",
    "                continue\n",
    "            #print(pt_bin_idx, eta_bin_idx, num_nonzero_bins, total) \n",
    "            try:\n",
    "                # need to update this\n",
    "                # inspired from hist.plot._fit_callable_to_hist\n",
    "                #p0 = [10, 1, 1]\n",
    "                p0 = [total, h_stats[\"mean\"][pt_bin_idx, eta_bin_idx], h_stats[\"stdev\"][pt_bin_idx, eta_bin_idx]]\n",
    "                popt, pcov = optimize.curve_fit(norm, xdata, ydata, sigma=yerr, absolute_sigma=True, \n",
    "                                                p0=p0, maxfev=1000)\n",
    "\n",
    "                _, fit_mean, fit_stdev = popt\n",
    "                fit_mean_error = np.sqrt(pcov[1, 1])\n",
    "            \n",
    "                # populate stats dict\n",
    "                h_stats[\"fit_mean\"][pt_bin_idx, eta_bin_idx] = fit_mean\n",
    "                h_stats[\"fit_stdev\"][pt_bin_idx, eta_bin_idx] = fit_stdev\n",
    "                h_stats[\"fit_var\"][pt_bin_idx, eta_bin_idx] = fit_stdev ** 2\n",
    "                h_stats[\"fit_mean_error\"][pt_bin_idx, eta_bin_idx] = fit_mean_error\n",
    "            except:\n",
    "                #print(pt_bin_idx, eta_bin_idx, num_nonzero_bins, total)\n",
    "                pass\n",
    "            \n",
    "            if plot:\n",
    "                if not (pt_bin_idx == 28 and eta_bin_idx == 69):\n",
    "                    continue\n",
    "                \n",
    "                fig, ax = plt.subplots()\n",
    "                h_resp.plot(ax=ax) # plot histogram\n",
    "\n",
    "                y_plot = norm(x_plot, *popt) # plot gaussian fit\n",
    "\n",
    "                # for log y scale, plot only y > 1\n",
    "                if yscale == \"log\":\n",
    "                    ax.plot(x_plot[y_plot>=1], y_plot[y_plot>1])\n",
    "                else:\n",
    "                    ax.plot(x_plot, y_plot)\n",
    "                    \n",
    "                # add y axis label\n",
    "                ax.set_ylabel(\"Events\")\n",
    "\n",
    "                # format legend\n",
    "                legend_title = \"\" if not legend_title else legend_title + \"\\n\"\n",
    "                legend_title += \"{}\\n{}\\n\\n\".format(pt_range_text, eta_range_text)\n",
    "                legend_title += \"count: {}\\n\".format(total)\n",
    "                legend_title += \"mean: {:.3f}\\nstdev: {:.3f}\\nmean_err: {:.3f}\\n\"\\\n",
    "                                .format(h_stats[\"mean\"][pt_bin_idx, eta_bin_idx], \n",
    "                                        h_stats[\"stdev\"][pt_bin_idx, eta_bin_idx], \n",
    "                                        h_stats[\"mean_error\"][pt_bin_idx, eta_bin_idx])\n",
    "                legend_title += \"median: {:.3f}\\nmedian_err: {:.3f}\\n\"\\\n",
    "                                .format(h_stats[\"median\"][pt_bin_idx, eta_bin_idx],\n",
    "                                        h_stats[\"median_error\"][pt_bin_idx, eta_bin_idx])\n",
    "                legend_title += \"fit_mean: {:.3f}\\nfit_stdev: {:.3f}\\nfit_mean_err: {:.3f}\"\\\n",
    "                                .format(fit_mean, fit_stdev, fit_mean_error)\n",
    "\n",
    "                # TODO: write filename formatting for saving, use only None for now\n",
    "                format_plot(fig, ax, xscale=xscale, yscale=yscale, xlim=xlim, ylim=ylim, \n",
    "                            legend_title=legend_title, legend_args={\"title_fontsize\":20},\n",
    "                            hep_args=hep_args,\n",
    "                            filename=filename, dpi=dpi)\n",
    "            \n",
    "    return h_stats"
   ]
  },
  {
   "cell_type": "code",
   "execution_count": null,
   "id": "e666f500",
   "metadata": {},
   "outputs": [],
   "source": [
    "out_fit_stats = fit_response(out, dataset=\"QCD\", \n",
    "                             correction_level=\"Original\", \n",
    "                             jet_type=\"AK4PUPPI\",\n",
    "                             xscale=\"linear\", yscale=\"linear\", \n",
    "                             legend_title=\"Original JEC\", hep_args=mc_hep_args,\n",
    "                             plot=True,\n",
    "                             filename=None\n",
    "                            )"
   ]
  },
  {
   "cell_type": "code",
   "execution_count": null,
   "id": "9df7635e",
   "metadata": {},
   "outputs": [],
   "source": [
    "def plot_response_stat(pt_bins, eta_bins, response_stat,\n",
    "                       jet_label=\"jet\", \n",
    "                       xscale=\"linear\", yscale=\"linear\", xlim=None, ylim=None,\n",
    "                       legend_title=None, hep_args=None, filename=None, dpi=100):\n",
    "    fig, ax = plt.subplots(figsize=(10, 10))\n",
    "    cmap = cm.seismic_r\n",
    "    cmap.set_bad(color='gray', alpha=0.2)\n",
    "\n",
    "    hep.hist2dplot(response_stat, pt_bins, eta_bins, ax=ax, cmap=cmap, norm=colors.CenteredNorm(vcenter=1.0))\n",
    "    \n",
    "    # plot pt=40 GeV\n",
    "    ax.axvline(x=40, color=\"k\", linestyle=\"dotted\")\n",
    "    \n",
    "    # plot eta range in eta_bin_plot\n",
    "    for eta in eta_bins:\n",
    "        ax.axhline(y=eta, color=\"k\", linestyle=\"dotted\")\n",
    "        if eta !=0:\n",
    "            ax.axhline(y=-eta, color=\"k\", linestyle=\"dotted\")\n",
    "    \n",
    "    ax.set_xlabel(r\"$p_T^{%s}$\"%(jet_label))\n",
    "    ax.set_ylabel(r\"$\\eta^{%s}$\"%(jet_label))\n",
    "    \n",
    "    format_plot(fig, ax, xscale=xscale, yscale=yscale, xlim=xlim, ylim=ylim, \n",
    "                legend_title=legend_title, legend_args={\"title_fontsize\":20},\n",
    "                hep_args=hep_args,\n",
    "                filename=filename, dpi=dpi)"
   ]
  },
  {
   "cell_type": "code",
   "execution_count": null,
   "id": "6b9bdb21",
   "metadata": {},
   "outputs": [],
   "source": [
    "pt_bins = out[\"pt_response\"].axes[\"jet_pt\"].edges\n",
    "eta_bins = out[\"pt_response\"].axes[\"jet_eta\"].edges"
   ]
  },
  {
   "cell_type": "code",
   "execution_count": null,
   "id": "6e69e1a3",
   "metadata": {},
   "outputs": [],
   "source": [
    "plot_response_stat(pt_bins, eta_bins, out_fit_stats[\"fit_mean\"],\n",
    "                   jet_label=\"PUPPI\",\n",
    "                   xscale=\"log\",\n",
    "                   legend_title=\"Mean\", hep_args=data_hep_args)"
   ]
  },
  {
   "cell_type": "code",
   "execution_count": null,
   "id": "e1152c1b",
   "metadata": {},
   "outputs": [],
   "source": [
    "fig, ax = plt.subplots()\n",
    "pt_bin_centers = out[\"pt_response\"].axes[\"jet_pt\"].centers\n",
    "plot_stats = [\"mean\", \"median\", \"fit_mean\"]\n",
    "fmts = \"os^\"\n",
    "for i, stat in enumerate(plot_stats):\n",
    "    stat_err = stat + \"_error\"\n",
    "    ax.errorbar(pt_bin_centers, out_fit_stats[stat][:, 3], yerr=out_fit_stats[stat_err][:, 3], \n",
    "                fmt=fmts[i], label=stat, alpha=0.5)\n",
    "ax.axhline(y=1.0, linestyle=\"dotted\", color=\"k\")\n",
    "ax.legend()\n",
    "ax.set_xscale(\"log\")\n",
    "ax.set_ylim(-5, 6)\n",
    "ax.legend(title=r\"$0 < \\eta$ < 1.3\", loc=3)\n",
    "ax.set_xlabel(r\"AK4PUPPI $p_T$\")\n",
    "correction_level = format_correction_level(\"Original\")\n",
    "off_jet_label = \"AK4PUPPI\"\n",
    "on_jet_label = \"AK4HLT\"\n",
    "jet_type = \"AK4PUPPI\"\n",
    "off_correction_level, on_correction_level = extract_correction_level(correction_level)\n",
    "off_jet_pt_axis_label = \"\\ \".join([off_jet_label, \"p_T\", \"({})\".format(off_correction_level)])\n",
    "on_jet_pt_axis_label = \"\\ \".join([on_jet_label, \"p_T\", \"({})\".format(on_correction_level)])\n",
    "if jet_type.startswith(off_jet_label):\n",
    "    jet_type_correction_level = off_correction_level\n",
    "else:\n",
    "    jet_type_correction_level = on_correction_level\n",
    "jet_type_pt_axis_label = \"\\ \".join([*jet_type.split(\"_\"), \"p_T\", \"({})\".format(jet_type_correction_level)])\n",
    "ax.set_xlabel(r\"${}$\".format(jet_type_pt_axis_label))\n",
    "ax.set_ylabel(r\"$R = \\frac{%s}{%s}$\"%(str(on_jet_pt_axis_label), str(off_jet_pt_axis_label)))\n",
    "ax.grid()\n",
    "hep.cms.label(**mc_hep_args)"
   ]
  },
  {
   "cell_type": "code",
   "execution_count": null,
   "id": "5eb54f63",
   "metadata": {},
   "outputs": [],
   "source": [
    "fig, ax = plt.subplots()\n",
    "#out[\"pt_response\"][\"QCD\", \"off=Original:on=Original\", \"AK4PUPPI\", 29, 3, sum, :].plot1d(ax=ax)\n",
    "out[\"pt_response\"][\"QCD\", \"off=Original:on=Original\", \"AK4PUPPI\", -4, 3, sum, :].plot1d(ax=ax)"
   ]
  },
  {
   "cell_type": "code",
   "execution_count": null,
   "id": "13e0a4d8",
   "metadata": {},
   "outputs": [],
   "source": [
    "out_fit_stats[\"mean_error\"][:, 3]"
   ]
  },
  {
   "cell_type": "code",
   "execution_count": null,
   "id": "f09de51c",
   "metadata": {},
   "outputs": [],
   "source": [
    "plot_tp_metprojection(out, jet_type=\"AK4Scouting\", \n",
    "                      eta_range=(0, 1.3, True),\n",
    "                      x_jet_label=\"AK4PUPPI, tag\", y_jet_label=\"AK4Scouting, probe\",\n",
    "                      xscale=\"log\", xlim=(10, None), normalize_pt=True, \n",
    "                      hep_args=hep_args, filename=None);"
   ]
  },
  {
   "cell_type": "code",
   "execution_count": 16,
   "id": "a0c86ffd",
   "metadata": {},
   "outputs": [
    {
     "name": "stderr",
     "output_type": "stream",
     "text": [
      "/eos/home-i04/p/pinkaew/research/online-offline-jec/analysis/plot.py:70: RuntimeWarning: invalid value encountered in true_divide\n",
      "  h_np_norm = h_np / np.sum(h_np, axis=1, keepdims=True)\n"
     ]
    },
    {
     "data": {
      "image/png": "[encoded data removed]",
      "text/plain": [
       "<Figure size 1080x720 with 2 Axes>"
      ]
     },
     "metadata": {
      "needs_background": "light"
     },
     "output_type": "display_data"
    }
   ],
   "source": [
    "plot_tp_asymmetry(out, jet_type=\"AK4Scouting\", \n",
    "                  eta_range=(0, 1.3, True),\n",
    "                  x_jet_label=\"AK4PUPPI, tag\", y_jet_label=\"AK4Scouting, probe\",\n",
    "                  xscale=\"log\", xlim=(10, None), normalize_pt=True, \n",
    "                  plot_what=[\"2d\", \"profile\"],\n",
    "                  hep_args=hep_args, filename=None);"
   ]
  },
  {
   "cell_type": "code",
   "execution_count": null,
   "id": "ae066f60",
   "metadata": {},
   "outputs": [],
   "source": [
    "plot_tp_response(out, jet_type=\"AK4Scouting\", \n",
    "                  eta_range=(0, 1.3, True),\n",
    "                  x_jet_label=\"AK4PUPPI, tag\", y_jet_label=\"AK4Scouting, probe\",\n",
    "                  xscale=\"log\", xlim=(10, None), normalize_pt=True, \n",
    "                  plot_what=[\"2d\", \"profile\"],\n",
    "                  hep_args=hep_args, filename=None);"
   ]
  },
  {
   "cell_type": "code",
   "execution_count": null,
   "id": "8509e0c8",
   "metadata": {},
   "outputs": [],
   "source": [
    "plot_tp_response(out, jet_type=\"AK4Scouting\", \n",
    "                  eta_range=(0, 1.3, True),\n",
    "                  x_jet_label=\"AK4PUPPI, tag\", y_jet_label=\"AK4Scouting, probe\",\n",
    "                  xscale=\"log\", xlim=(10, None), normalize_pt=True, \n",
    "                  plot_what=[\"2d\", \"median\"],\n",
    "                  hep_args=hep_args, filename=None);"
   ]
  },
  {
   "cell_type": "code",
   "execution_count": null,
   "id": "9f8a13ab",
   "metadata": {},
   "outputs": [],
   "source": [
    "plot_tp_asymmetry(out, jet_type=\"AK4Scouting\", \n",
    "                  eta_range=(0, 1.3, True),\n",
    "                  x_jet_label=\"AK4PUPPI, tag\", y_jet_label=\"AK4Scouting, probe\",\n",
    "                  xscale=\"log\", xlim=(10, None), normalize_pt=True, \n",
    "                  hep_args=hep_args, filename=None);"
   ]
  },
  {
   "cell_type": "code",
   "execution_count": null,
   "id": "a0aae096",
   "metadata": {},
   "outputs": [],
   "source": [
    "plot_tp_response(out, jet_type=\"AK4Scouting\", \n",
    "                  eta_range=(1.3, 2.5, True),\n",
    "                  x_jet_label=\"AK4PUPPI, tag\", y_jet_label=\"AK4Scouting, probe\",\n",
    "                  xscale=\"log\", xlim=(10, None), normalize_pt=True, hep_args=hep_args);"
   ]
  },
  {
   "cell_type": "code",
   "execution_count": null,
   "id": "b9932d9e",
   "metadata": {},
   "outputs": [],
   "source": [
    "def plot_multiple_eta_bin(func, eta_bin_plot, func_args, mirror=True):\n",
    "    for eta_plot_idx in range(len(eta_bin_plot)-1):\n",
    "        eta_low = eta_bin_plot[eta_plot_idx]\n",
    "        eta_high = eta_bin_plot[eta_plot_idx+1]\n",
    "        func(**func_args, eta_range=(eta_low, eta_high, mirror))\n",
    "        \n",
    "def plot_multiple_funcs(func_list, eta_bin_plot, func_args_list, mirror=True):\n",
    "    if callable(func_list):\n",
    "        func_list = [func_list]\n",
    "    num_funcs = len(func_list)\n",
    "    if isinstance(func_args_list, dict):\n",
    "        func_args_list = [func_args_list]\n",
    "    num_func_args = len(func_args_list)\n",
    "    \n",
    "    for i in range(num_funcs):\n",
    "        if num_func_args == 1:\n",
    "            plot_multiple_eta_bin(func_list[i], eta_bin_plot, func_args_list[0])\n",
    "        else:\n",
    "            plot_multiple_eta_bin(func_list[i], eta_bin_plot, func_args_list[i])"
   ]
  },
  {
   "cell_type": "code",
   "execution_count": null,
   "id": "6a87e222",
   "metadata": {},
   "outputs": [],
   "source": [
    "func_args = {\"out\":out, \n",
    "             \"dataset\": \"QCD\",\n",
    "             \"jet_type\":\"AK4Scouting\",\n",
    "             \"normalize_pt\":True,\n",
    "             \"x_jet_label\":\"AK4PUPPI, tag\", \n",
    "             \"y_jet_label\":\"AK4Scouting, probe\",\n",
    "             \"xscale\":\"log\", \n",
    "             \"xlim\":(20, None), \n",
    "             \"hep_args\":hep_args,\n",
    "             \"filename\":-1}\n",
    "func_list = [plot_tp_asymmetry, plot_tp_metprojection]\n",
    "plot_multiple_funcs(func_list, eta_bin_plot=eta_bin_coarse, func_args_list=func_args, mirror=True)"
   ]
  },
  {
   "cell_type": "code",
   "execution_count": 24,
   "id": "9b07d761",
   "metadata": {},
   "outputs": [],
   "source": [
    "def plot_on_the_same_plot(func_list, func_args_list, labels=None, filename=None, save_plot_name=None):\n",
    "    if callable(func_list):\n",
    "        func_list = [func_list]\n",
    "    num_funcs = len(func_list)\n",
    "    if isinstance(func_args_list, dict):\n",
    "        func_args_list = [func_args_list]\n",
    "    num_func_args = len(func_args_list)\n",
    "    if labels is None:\n",
    "        labels = [None] * num_funcs\n",
    "    \n",
    "#     if filename is None:\n",
    "#         for func_args in func_args_list:\n",
    "#             if \"filename\" in func_args:\n",
    "#                 if filename is None:\n",
    "#                     filename = func_args[\"filename\"]\n",
    "#             func_args.pop(\"filename\")\n",
    "    \n",
    "    fig, ax = func_list[0](**func_args, labels=labels[0])\n",
    "    for i in range(1, num_funcs):\n",
    "#         if i == num_funcs - 1:\n",
    "#             func_args[\"filename\"] = filename\n",
    "#             func_args = \n",
    "        fig, ax = func_list[i](fig=fig, ax=ax, **func_args, labels=labels[i])\n",
    "#     if filename == 0 or filename == -1:\n",
    "#         save_dir = os.path.join(out[\"configurations\"][\"IO\"][\"output_dir\"], \"plot\")\n",
    "#         mkdir_if_not_exist(save_dir)\n",
    "#         file_type = \"pdf\" if filename == -1 else \"png\"\n",
    "#         filename = get_default_filename(dataset, hist_name, jet_type, eta_range, \n",
    "#                                         normalize_pt, xscale, yscale, file_type=file_type)\n",
    "#         filename = os.path.join(save_dir, filename)\n",
    "    \n",
    "#     if filename is not None:\n",
    "#         save_figure(fig=fig, filename=filename)\n",
    "\n",
    "    return fig, ax\n",
    "\n",
    "plot_derived_response = partial(plot_on_the_same_plot, \n",
    "                                func_list=[plot_tp_db, plot_tp_mpf],\n",
    "                                labels=[\"DB\", \"MPF\"])"
   ]
  },
  {
   "cell_type": "code",
   "execution_count": 25,
   "id": "4d1f1976",
   "metadata": {},
   "outputs": [
    {
     "data": {
      "text/plain": [
       "(<Figure size 1080x720 with 1 Axes>,\n",
       " <AxesSubplot:xlabel='$(p_T^{AK4PUPPI, tag} + p_T^{AK4Scouting, probe})/2$', ylabel='Response $R_{rel}$'>)"
      ]
     },
     "execution_count": 25,
     "metadata": {},
     "output_type": "execute_result"
    },
    {
     "data": {
      "image/png": "[encoded data removed]",
      "text/plain": [
       "<Figure size 1080x720 with 1 Axes>"
      ]
     },
     "metadata": {
      "needs_background": "light"
     },
     "output_type": "display_data"
    }
   ],
   "source": [
    "dataset = \"QCD\"\n",
    "eta_range = (0, 1.3, True)\n",
    "jet_type = \"AK4Scouting\"\n",
    "x_jet_label = \"AK4PUPPI, tag\"\n",
    "y_jet_label = jet_type + \", probe\"\n",
    "\n",
    "func_args = {\"out\":out, \n",
    "             \"dataset\": dataset,\n",
    "             \"jet_type\":jet_type,\n",
    "             \"eta_range\": eta_range,\n",
    "             \"normalize_pt\":True,\n",
    "             \"x_jet_label\":x_jet_label,\n",
    "             \"y_jet_label\":y_jet_label,\n",
    "             \"xscale\":\"log\", \n",
    "             \"xlim\":(18, None),\n",
    "             \"hline\":1.0,\n",
    "             \"ylim\":(0.85, 1.15),\n",
    "             \"hep_args\":hep_args,\n",
    "             \"filename\":None}\n",
    "plot_derived_response(func_args_list=func_args, \n",
    "                      filename=None)"
   ]
  },
  {
   "cell_type": "code",
   "execution_count": null,
   "id": "9a062a80",
   "metadata": {},
   "outputs": [],
   "source": [
    "dataset = \"QCD\"\n",
    "#eta_range = (0, 1.3, True)\n",
    "jet_type = \"AK4Scouting\"\n",
    "x_jet_label = \"AK4PUPPI, tag\"\n",
    "y_jet_label = jet_type + \", probe\"\n",
    "\n",
    "for eta_range in [(0, 1.3, True), (1.3, 2.5, True), (2.5, 3.0, True), (3.0, 1.3, True)]:\n",
    "    func_args = {\"out\":out, \n",
    "                 \"dataset\": dataset,\n",
    "                 \"jet_type\":jet_type,\n",
    "                 \"eta_range\": eta_range,\n",
    "                 \"normalize_pt\":True,\n",
    "                 \"x_jet_label\":x_jet_label,\n",
    "                 \"y_jet_label\":y_jet_label,\n",
    "                 \"xscale\":\"log\", \n",
    "                 \"xlim\":(18, None),\n",
    "                 \"hline\":1.0,\n",
    "                 \"ylim\":(0.75, 1.25),\n",
    "                 \"hep_args\":hep_args,\n",
    "                 \"filename\":None}\n",
    "    plot_derived_response(func_args_list=func_args, \n",
    "                          filename=None)"
   ]
  },
  {
   "cell_type": "code",
   "execution_count": null,
   "id": "25e6eb17",
   "metadata": {},
   "outputs": [],
   "source": [
    "jet_type = \"AK4PUPPI\"\n",
    "eta_range = (0, 1.3, True)\n",
    "eta_range = None\n",
    "h = preprocess_histogram(out[\"tp_response\"], dataset=dataset, \\\n",
    "                            jet_type=jet_type, eta_range=eta_range, phi_range=eta_range)\n",
    "h = (h.project(\"jet_pt\", \"tp_response\"))[0j:, :]\n",
    "hp = h.profile(\"tp_response\")"
   ]
  },
  {
   "cell_type": "code",
   "execution_count": null,
   "id": "57b326f6",
   "metadata": {},
   "outputs": [],
   "source": [
    "fig, ax = plt.subplots()\n",
    "pt_bin_centers = out[\"tp_response\"].axes[\"jet_pt\"].centers\n",
    "pf1 = out[\"tp_response\"][\"QCD\", \"AK4PUPPI\", :, slice(-1.3j, 1.3j, sum), :].profile(\"tp_response\")\n",
    "ax.errorbar(pt_bin_centers, pf1.values(), yerr=np.sqrt(pf1.variances()), \n",
    "            fmt=\".--\", alpha=0.5, label=r\"$\\langle\\frac{p_T^{AK4PUPPI, probe}}{p_T^{AK4PUPPI, tag}}\\rangle$\")\n",
    "pf2 = out[\"tp_response\"][\"QCD\", \"AK4Scouting\", :, slice(-1.3j, 1.3j, sum), :].profile(\"tp_response\")\n",
    "ax.errorbar(pt_bin_centers, pf2.values(), yerr=np.sqrt(pf2.variances()), \n",
    "            fmt=\".--\", alpha=0.5, label=r\"$\\langle\\frac{p_T^{AK4Scouting, probe}}{p_T^{AK4PUPPI, tag}}\\rangle$\")\n",
    "pf_ratio = pf2.values()/pf1.values()\n",
    "pf_ratio_std = pf_ratio * np.sqrt(pf1.variances()/pf1.values()**2 + pf2.variances()/pf2.values()**2)\n",
    "ax.errorbar(pt_bin_centers, pf_ratio, yerr=pf_ratio_std, \n",
    "            fmt=\".--\", alpha=0.5, label=r\"$\\frac{\\langle p_T^{AK4Scouting, probe}\\rangle}{\\langle p_T^{AK4PUPPI, probe}\\rangle}$\")\n",
    "ax.axhline(1, linestyle=\"dashed\", color=\"k\", alpha=0.5)\n",
    "ax.set_xlabel(r\"$p_T^{AK4PUPPI, tag}$\")\n",
    "ax.set_ylabel(r\"Response\")\n",
    "format_plot(fig, ax, xscale=\"log\", yscale=\"linear\", xlim=(10, None), ylim=None,\n",
    "            legend_title=\"T&P Tag pt > 20 GeV\\nQCD\\n$|\\eta^{AK4PUPPI, tag}|$\", hep_args=mc_hep_args, filename=None)"
   ]
  },
  {
   "cell_type": "code",
   "execution_count": null,
   "id": "36211cb9",
   "metadata": {},
   "outputs": [],
   "source": [
    "out[\"cutflow\"]"
   ]
  },
  {
   "cell_type": "code",
   "execution_count": null,
   "id": "8a6e9a5c",
   "metadata": {},
   "outputs": [],
   "source": [
    "plot_tp_pt_balance(out, dataset=\"QCD\", \n",
    "                 jet_type=\"AK4PUPPI\",\n",
    "                 eta_range=(0, 1.3, True), \n",
    "                 phi_range=None,\n",
    "                 xlim=(10, None),\n",
    "                 xscale=\"log\", normalize_pt=True,\n",
    "                 legend_title=\"T&P Tag pt > 20 GeV\",\n",
    "                 hep_args=mc_hep_args,\n",
    "                 #plot_what=\n",
    "                 #filename=\"results/response_pt_corrected_notrigger_notagprobe_mc_density_xlog.png\"\n",
    "                )"
   ]
  },
  {
   "cell_type": "code",
   "execution_count": null,
   "id": "02ebbcb1",
   "metadata": {},
   "outputs": [],
   "source": [
    "out[\"arguments\"]"
   ]
  },
  {
   "cell_type": "code",
   "execution_count": null,
   "id": "25fc08f2",
   "metadata": {},
   "outputs": [],
   "source": [
    "plot_tp_pt_balance(out, dataset=\"QCD\", \n",
    "                 jet_type=\"AK4Scouting\",\n",
    "                 eta_range=(0, 1.3, True), \n",
    "                 phi_range=None,\n",
    "                 xlim=(20, None),\n",
    "                 xscale=\"log\", normalize_pt=True,\n",
    "                 legend_title=\"T&P Tag pt > 20 GeV\",\n",
    "                 hep_args=mc_hep_args,\n",
    "                 #plot_what=\n",
    "                 #filename=\"results/response_pt_corrected_notrigger_notagprobe_mc_density_xlog.png\"\n",
    "                )"
   ]
  },
  {
   "cell_type": "code",
   "execution_count": null,
   "id": "afe2810f",
   "metadata": {},
   "outputs": [],
   "source": [
    "plot_tp_mpf(out, dataset=dataset, \n",
    "                 jet_type=\"AK4Scouting\",\n",
    "                 eta_range=(0, 1.3, True), \n",
    "                 phi_range=None,\n",
    "                 xlim=(10, None),\n",
    "                 xscale=\"log\", normalize_pt=False,\n",
    "                 legend_title=\"T&P Tag pt > 20 GeV\",\n",
    "                 hep_args=mc_hep_args,\n",
    "                 #filename=\"results/response_pt_corrected_notrigger_notagprobe_mc_density_xlog.png\"\n",
    "                )"
   ]
  },
  {
   "cell_type": "code",
   "execution_count": null,
   "id": "68ba64d3",
   "metadata": {},
   "outputs": [],
   "source": [
    "out[\"arguments\"]"
   ]
  },
  {
   "cell_type": "code",
   "execution_count": null,
   "id": "3b3eb696",
   "metadata": {},
   "outputs": [],
   "source": [
    "out[\"cutflow\"]"
   ]
  },
  {
   "cell_type": "code",
   "execution_count": null,
   "id": "4896eea9",
   "metadata": {},
   "outputs": [],
   "source": [
    "out[\"tp_asymmetry\"]"
   ]
  },
  {
   "cell_type": "code",
   "execution_count": null,
   "id": "53737f97",
   "metadata": {},
   "outputs": [],
   "source": [
    "#output_filename = \"QCD_2022_AK4PUPPI_AK4Scouting_notrigger_tagprobe20_min20_tp100_base.coffea\"\n",
    "#output_filename = \"QCD_2022_AK4PUPPI_AK4Scouting_notrigger_tagprobe20_min20_tp100_switch.coffea\"\n",
    "#output_filename = \"QCD_2022_AK4PUPPI_AK4Scouting_notrigger_tagprobe20_min20_tp100_simul.coffea\"\n",
    "\n",
    "#output_filename = \"QCD_2022_AK4PUPPI_AK4Scouting_notrigger_tagprobe20_min0_tp100_base.coffea\"\n",
    "output_filename = \"QCD_2022_AK4PUPPI_AK4Scouting_notrigger_tagprobe20_min0_tp100_switch.coffea\"\n",
    "#output_filename = \"QCD_2022_AK4PUPPI_AK4Scouting_notrigger_tagprobe20_min0_tp100_simul.coffea\"\n",
    "out = coffea.util.load(os.path.join(output_dir, os.path.splitext(output_filename)[0], output_filename))"
   ]
  },
  {
   "cell_type": "code",
   "execution_count": null,
   "id": "be75669e",
   "metadata": {},
   "outputs": [],
   "source": [
    "fig, ax = plt.subplots()\n",
    "jet_type = \"AK4Scouting\"\n",
    "pt_bin_centers = out[\"tp_asymmetry\"].axes[\"jet_pt\"].centers\n",
    "a = out[\"tp_asymmetry\"][\"QCD\", jet_type, :, slice(-1.3j, 1.3j, sum), :].profile(\"tp_asymmetry\")\n",
    "db = (1 + a.values()) / (1 - a.values())\n",
    "ax.errorbar(pt_bin_centers, db, yerr=np.sqrt(a.variances()*(1/(1+a.values())**2 + 1/(1-a.values())**2)) * db, \n",
    "            fmt=\"o--\", alpha=0.5, label=r\"$R_{rel}^{p_T} = \\frac{1+\\langle A \\rangle}{1 - \\langle A \\rangle}$\")\n",
    "b = out[\"tp_metprojection\"][\"QCD\", jet_type, :, slice(-1.3j, 1.3j, sum), :].profile(\"tp_metprojection\")\n",
    "mpf = (1 + b.values()) / (1 - b.values())\n",
    "ax.errorbar(pt_bin_centers, mpf, yerr=np.sqrt(b.variances()*(1/(1+b.values())**2 + 1/(1-b.values())**2)) * mpf, \n",
    "            fmt=\"o--\", alpha=0.5, label=r\"$R_{rel}^{MPF} = \\frac{1+\\langle B \\rangle}{1 - \\langle B \\rangle}$\")\n",
    "pf1 = out[\"tp_response\"][\"QCD\", \"AK4Scouting\", :, slice(-1.3j, 1.3j, sum), :].profile(\"tp_response\")\n",
    "pf2 = out[\"tp_response\"][\"QCD\", \"AK4PUPPI\", :, slice(-1.3j, 1.3j, sum), :].profile(\"tp_response\")\n",
    "# pf1.plot(ax=ax, label=r\"$\\langle \\frac{ p_T^{AK4Scouting, probe}}{p_T^{AK4PUPPI, tag}}\\rangle$\")\n",
    "# pf2.plot(ax=ax, label=r\"$\\langle \\frac{ p_T^{AK4PUPPI, probe}}{p_T^{AK4PUPPI, tag}}\\rangle$\")\n",
    "pfratio = pf1.values() / pf2.values()\n",
    "#ax.errorbar(pt_bin_centers, pfratio, yerr=np.sqrt(pf1.variances()), \n",
    "#           fmt=\"o--\", alpha=0.5, label=r\"$\\frac{\\langle p_T^{%s, probe}\\rangle}{\\langle p_T^{AK4PUPPI, tag} \\rangle}$\"%jet_type)\n",
    "ax.axhline(1, linestyle=\"dashed\", color=\"k\", alpha=0.5)\n",
    "ax.set_xlabel(r\"$(p_T^{%s, probe} + p_T^{AK4PUPPI, probe})/2$\"%jet_type)\n",
    "ax.set_ylabel(r\"Response\")\n",
    "format_plot(fig, ax, xscale=\"log\", yscale=\"linear\", xlim=(20, None), ylim=(0.7, 1.3),\n",
    "            legend_title=\"Switch T&P $p_T^{tag}$ > 0 GeV\\nQCD\\n$|\\eta|<1.3$\", hep_args=mc_hep_args, filename=None)"
   ]
  },
  {
   "cell_type": "code",
   "execution_count": null,
   "id": "30fee4af",
   "metadata": {},
   "outputs": [],
   "source": [
    "fig, ax = plt.subplots()\n",
    "jet_type = \"AK4Scouting\"\n",
    "pt_bin_centers = out[\"tp_pt_balance\"].axes[\"jet_pt\"].centers\n",
    "a = out[\"tp_pt_balance\"][\"QCD\", jet_type, :, slice(-1.3j, 1.3j, sum), :].profile(\"tp_pt_balance\")\n",
    "db = (1 + a.values()) / (1 - a.values())\n",
    "ax.errorbar(pt_bin_centers, db, yerr=np.sqrt(a.variances()), \n",
    "            fmt=\".--\", alpha=0.5, label=r\"$R_{rel}^{p_T} = \\frac{1+\\langle A \\rangle}{1 - \\langle A \\rangle}$\")\n",
    "b = out[\"tp_mpf\"][\"QCD\", jet_type, :, slice(-1.3j, 1.3j, sum), :].profile(\"tp_mpf\")\n",
    "mpf = (1 - b.values()) / (1 + b.values())\n",
    "ax.errorbar(pt_bin_centers, mpf, yerr=np.sqrt(b.variances()), \n",
    "            fmt=\".--\", alpha=0.5, label=r\"$R_{rel}^{MPF} = \\frac{1+\\langle B \\rangle}{1 - \\langle B \\rangle}$\")\n",
    "pf2 = out[\"tp_response\"][\"QCD\", jet_type, :, slice(-1.3j, 1.3j, sum), :].profile(\"tp_response\")\n",
    "ax.errorbar(pt_bin_centers, pf2.values(), yerr=np.sqrt(pf2.variances()), \n",
    "            fmt=\".--\", alpha=0.5, label=r\"$\\langle\\frac{p_T^{AK4Scouting, probe}}{p_T^{AK4PUPPI, tag}}\\rangle$\")\n",
    "pf_ratio = pf2.values()/pf1.values()\n",
    "pf_ratio_std = pf_ratio * np.sqrt(pf1.variances()/pf1.values()**2 + pf2.variances()/pf2.values()**2)\n",
    "ax.errorbar(pt_bin_centers, pf_ratio, yerr=pf_ratio_std, \n",
    "            fmt=\".--\", alpha=0.5, label=r\"$\\langle\\frac{p_T^{AK4Scouting, probe}}{p_T^{AK4PUPPI, tag}}\\rangle$\")\n",
    "ax.axhline(1, linestyle=\"dashed\", color=\"k\", alpha=0.5)\n",
    "ax.set_xlabel(r\"$p_T^{AK4PUPPI, tag}$\")\n",
    "ax.set_ylabel(r\"Response\")\n",
    "format_plot(fig, ax, xscale=\"log\", yscale=\"linear\", xlim=(10, None), ylim=None,\n",
    "            legend_title=\"T&P Tag pt > 20 GeV\\nQCD\\n$|\\eta^{AK4PUPPI, tag}|$\", hep_args=mc_hep_args, filename=None)"
   ]
  },
  {
   "cell_type": "code",
   "execution_count": null,
   "id": "fae2c935",
   "metadata": {},
   "outputs": [],
   "source": []
  }
 ],
 "metadata": {
  "@webio": {
   "lastCommId": null,
   "lastKernelId": null
  },
  "kernelspec": {
   "display_name": "Python 3",
   "language": "python",
   "name": "python3"
  },
  "language_info": {
   "codemirror_mode": {
    "name": "ipython",
    "version": 3
   },
   "file_extension": ".py",
   "mimetype": "text/x-python",
   "name": "python",
   "nbconvert_exporter": "python",
   "pygments_lexer": "ipython3",
   "version": "3.9.12"
  }
 },
 "nbformat": 4,
 "nbformat_minor": 5
}
