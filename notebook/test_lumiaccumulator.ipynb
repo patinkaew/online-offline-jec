{
 "cells": [
  {
   "cell_type": "code",
   "execution_count": 1,
   "id": "d3424aab",
   "metadata": {},
   "outputs": [],
   "source": [
    "import sys\n",
    "import os\n",
    "sys.path.append(os.path.dirname(sys.path[0])) # append project directory to path for import\n",
    "os.chdir(os.path.dirname(sys.path[0])) # change current working directory to project directory\n",
    "\n",
    "%load_ext autoreload\n",
    "%autoreload 2"
   ]
  },
  {
   "cell_type": "code",
   "execution_count": 8,
   "id": "a47a4acb",
   "metadata": {},
   "outputs": [],
   "source": [
    "import processor\n",
    "from processor.accumulator import LumiAccumulator"
   ]
  },
  {
   "cell_type": "code",
   "execution_count": 14,
   "id": "b5650da3",
   "metadata": {},
   "outputs": [],
   "source": [
    "l1 = LumiAccumulator([1, 1], [2, 3], auto_unique=False)\n",
    "l2 = LumiAccumulator([1, 1, 8], [3, 4, 9])"
   ]
  },
  {
   "cell_type": "code",
   "execution_count": 15,
   "id": "e50b3eb8",
   "metadata": {},
   "outputs": [
    {
     "data": {
      "text/plain": [
       "array([[1, 2],\n",
       "       [1, 3],\n",
       "       [1, 3],\n",
       "       [1, 4],\n",
       "       [8, 9]])"
      ]
     },
     "execution_count": 15,
     "metadata": {},
     "output_type": "execute_result"
    }
   ],
   "source": [
    "l3 = (l1 + l2)\n",
    "#l3.unique()\n",
    "l3.array"
   ]
  },
  {
   "cell_type": "code",
   "execution_count": 17,
   "id": "d82bd8aa",
   "metadata": {},
   "outputs": [],
   "source": [
    "out1 = {\"lumi\": {\"JetMET\": l1}}\n",
    "out2 = {\"lumi\": {\"JetMET\": l2}}"
   ]
  },
  {
   "cell_type": "code",
   "execution_count": 18,
   "id": "e99e3b3e",
   "metadata": {},
   "outputs": [
    {
     "ename": "TypeError",
     "evalue": "unsupported operand type(s) for +: 'dict' and 'dict'",
     "output_type": "error",
     "traceback": [
      "\u001b[0;31m---------------------------------------------------------------------------\u001b[0m",
      "\u001b[0;31mTypeError\u001b[0m                                 Traceback (most recent call last)",
      "Cell \u001b[0;32mIn [18], line 1\u001b[0m\n\u001b[0;32m----> 1\u001b[0m \u001b[43mout1\u001b[49m\u001b[43m \u001b[49m\u001b[38;5;241;43m+\u001b[39;49m\u001b[43m \u001b[49m\u001b[43mout2\u001b[49m\n",
      "\u001b[0;31mTypeError\u001b[0m: unsupported operand type(s) for +: 'dict' and 'dict'"
     ]
    }
   ],
   "source": [
    "out1 + out2"
   ]
  },
  {
   "cell_type": "code",
   "execution_count": null,
   "id": "a50ea6c4",
   "metadata": {},
   "outputs": [],
   "source": [
    "events = events[self.lumimask(events.run, events.luminosityBlock)]\n",
    "cutflow[\"lumimask\"] += len(events)\n",
    "lumi_list = list(set(zip(events.run, events.luminosityBlock))) # save processed lumi list"
   ]
  }
 ],
 "metadata": {
  "kernelspec": {
   "display_name": "Python 3 (ipykernel)",
   "language": "python",
   "name": "python3"
  },
  "language_info": {
   "codemirror_mode": {
    "name": "ipython",
    "version": 3
   },
   "file_extension": ".py",
   "mimetype": "text/x-python",
   "name": "python",
   "nbconvert_exporter": "python",
   "pygments_lexer": "ipython3",
   "version": "3.10.6"
  }
 },
 "nbformat": 4,
 "nbformat_minor": 5
}
