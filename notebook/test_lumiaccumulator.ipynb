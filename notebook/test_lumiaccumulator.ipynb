{
 "cells": [
  {
   "cell_type": "code",
   "execution_count": 1,
   "id": "d3424aab",
   "metadata": {},
   "outputs": [],
   "source": [
    "import sys\n",
    "import os\n",
    "sys.path.append(os.path.dirname(sys.path[0])) # append project directory to path for import\n",
    "os.chdir(os.path.dirname(sys.path[0])) # change current working directory to project directory\n",
    "\n",
    "%load_ext autoreload\n",
    "%autoreload 2"
   ]
  },
  {
   "cell_type": "code",
   "execution_count": 2,
   "id": "a47a4acb",
   "metadata": {},
   "outputs": [],
   "source": [
    "import processor\n",
    "from processor.accumulator import LumiAccumulator"
   ]
  },
  {
   "cell_type": "code",
   "execution_count": 3,
   "id": "b5650da3",
   "metadata": {},
   "outputs": [],
   "source": [
    "l1 = LumiAccumulator([1, 1], [2, 3], auto_unique=False)\n",
    "l2 = LumiAccumulator([1, 1, 8], [3, 4, 9])"
   ]
  },
  {
   "cell_type": "code",
   "execution_count": 4,
   "id": "e50b3eb8",
   "metadata": {},
   "outputs": [
    {
     "data": {
      "text/plain": [
       "array([[1, 2],\n",
       "       [1, 3],\n",
       "       [1, 3],\n",
       "       [1, 4],\n",
       "       [8, 9]])"
      ]
     },
     "execution_count": 4,
     "metadata": {},
     "output_type": "execute_result"
    }
   ],
   "source": [
    "l3 = (l1 + l2)\n",
    "#l3.unique()\n",
    "l3.array"
   ]
  },
  {
   "cell_type": "code",
   "execution_count": 5,
   "id": "d82bd8aa",
   "metadata": {},
   "outputs": [],
   "source": [
    "out1 = {\"lumi\": {\"JetMET\": l1}}\n",
    "out2 = {\"lumi\": {\"JetMET\": l2}}"
   ]
  },
  {
   "cell_type": "code",
   "execution_count": 6,
   "id": "e99e3b3e",
   "metadata": {},
   "outputs": [
    {
     "data": {
      "text/plain": [
       "<processor.accumulator.LumiAccumulator at 0x7fb68d1f6980>"
      ]
     },
     "execution_count": 6,
     "metadata": {},
     "output_type": "execute_result"
    }
   ],
   "source": [
    "l1 + l2"
   ]
  },
  {
   "cell_type": "code",
   "execution_count": 7,
   "id": "d875c74a",
   "metadata": {},
   "outputs": [],
   "source": [
    "import numpy as np\n",
    "import coffea\n",
    "from coffea.nanoevents import NanoAODSchema, NanoEventsFactory\n",
    "from coffea.lumi_tools import LumiList"
   ]
  },
  {
   "cell_type": "code",
   "execution_count": 8,
   "id": "73ba94d6",
   "metadata": {},
   "outputs": [
    {
     "name": "stdout",
     "output_type": "stream",
     "text": [
      "0:04:56.126493\n"
     ]
    }
   ],
   "source": [
    "out_mc = coffea.util.load(\"coffea_output/AK4Puppi_HLT_comparison_correction_mc_test10_testconfig_testlumilist.coffea\")\n",
    "print(out_mc[\"process_time\"])"
   ]
  },
  {
   "cell_type": "code",
   "execution_count": 9,
   "id": "c171a7ef",
   "metadata": {},
   "outputs": [
    {
     "name": "stdout",
     "output_type": "stream",
     "text": [
      "0:04:56.109424\n"
     ]
    }
   ],
   "source": [
    "out_mc_lumiacc = coffea.util.load(\"coffea_output/AK4Puppi_HLT_comparison_correction_mc_test10_testconfig_testlumiacc.coffea\")\n",
    "print(out_mc_lumiacc[\"process_time\"])"
   ]
  },
  {
   "cell_type": "code",
   "execution_count": 10,
   "id": "ab3dc17e",
   "metadata": {},
   "outputs": [],
   "source": [
    "fname = \"/data/data/JME_NANO_DATA/2022/JMENanoRun3_v2p1_Run2022D-PromptReco-v2/JetMET/220915_173253/0000/tree_1.root\"\n",
    "events = NanoEventsFactory.from_root(\n",
    "            fname, \n",
    "            schemaclass=NanoAODSchema,\n",
    "            metadata={\"dataset\": \"test\"}\n",
    "            ).events()"
   ]
  },
  {
   "cell_type": "code",
   "execution_count": 11,
   "id": "8bdcd81b",
   "metadata": {},
   "outputs": [
    {
     "name": "stdout",
     "output_type": "stream",
     "text": [
      "101 ms ± 409 µs per loop (mean ± std. dev. of 7 runs, 1 loop each)\n"
     ]
    }
   ],
   "source": [
    "%%timeit\n",
    "lumi_list = list(set(zip(events.run, events.luminosityBlock)))"
   ]
  },
  {
   "cell_type": "code",
   "execution_count": 12,
   "id": "44afde28",
   "metadata": {},
   "outputs": [
    {
     "name": "stdout",
     "output_type": "stream",
     "text": [
      "22.1 ms ± 463 µs per loop (mean ± std. dev. of 7 runs, 10 loops each)\n"
     ]
    }
   ],
   "source": [
    "%%timeit\n",
    "lumi_acc = LumiAccumulator(events.run, events.luminosityBlock, auto_unique=True)"
   ]
  },
  {
   "cell_type": "code",
   "execution_count": 13,
   "id": "d9a9a305",
   "metadata": {},
   "outputs": [
    {
     "name": "stdout",
     "output_type": "stream",
     "text": [
      "1.11 s ± 2.7 ms per loop (mean ± std. dev. of 7 runs, 1 loop each)\n"
     ]
    }
   ],
   "source": [
    "%%timeit\n",
    "lumi_list_sum = list(set(zip(events.run, events.luminosityBlock)))\n",
    "for i in range(10):\n",
    "    lumi_list_sum += list(set(zip(events.run, events.luminosityBlock)))\n",
    "lumi_list_sum = np.array(lumi_list_sum)\n",
    "lumi_list_sum = LumiList(lumi_list_sum[:, 0], lumi_list_sum[:, 1])"
   ]
  },
  {
   "cell_type": "code",
   "execution_count": 14,
   "id": "27be1682",
   "metadata": {},
   "outputs": [
    {
     "name": "stdout",
     "output_type": "stream",
     "text": [
      "1.61 s ± 6.32 ms per loop (mean ± std. dev. of 7 runs, 1 loop each)\n"
     ]
    }
   ],
   "source": [
    "%%timeit\n",
    "lumi_list_sum = list(zip(events.run, events.luminosityBlock))\n",
    "for i in range(10):\n",
    "    lumi_list_sum += list(zip(events.run, events.luminosityBlock))\n",
    "lumi_list_sum = np.array(lumi_list_sum)\n",
    "lumi_list_sum = LumiList(lumi_list_sum[:, 0], lumi_list_sum[:, 1])"
   ]
  },
  {
   "cell_type": "code",
   "execution_count": 15,
   "id": "5ff7b918",
   "metadata": {},
   "outputs": [
    {
     "name": "stdout",
     "output_type": "stream",
     "text": [
      "1.44 s ± 3.21 ms per loop (mean ± std. dev. of 7 runs, 1 loop each)\n"
     ]
    }
   ],
   "source": [
    "%%timeit\n",
    "lumi_list_run = list(events.run)\n",
    "lumi_list_lumiblock = list(events.luminosityBlock)\n",
    "for i in range(10):\n",
    "    lumi_list_run += list(events.run)\n",
    "    lumi_list_lumiblock += list(events.luminosityBlock)\n",
    "lumi_list_sum = LumiList(lumi_list_run, lumi_list_lumiblock)"
   ]
  },
  {
   "cell_type": "code",
   "execution_count": 16,
   "id": "f0c76894",
   "metadata": {},
   "outputs": [
    {
     "name": "stdout",
     "output_type": "stream",
     "text": [
      "245 ms ± 7.09 ms per loop (mean ± std. dev. of 7 runs, 1 loop each)\n"
     ]
    }
   ],
   "source": [
    "%%timeit\n",
    "lumi_acc_sum = LumiAccumulator(events.run, events.luminosityBlock, auto_unique=True)\n",
    "for i in range(10):\n",
    "    lumi_acc_sum += LumiAccumulator(events.run, events.luminosityBlock, auto_unique=True)\n",
    "lumi_acc_sum.unique()"
   ]
  },
  {
   "cell_type": "code",
   "execution_count": 17,
   "id": "4673babc",
   "metadata": {},
   "outputs": [
    {
     "name": "stdout",
     "output_type": "stream",
     "text": [
      "239 ms ± 949 µs per loop (mean ± std. dev. of 7 runs, 1 loop each)\n"
     ]
    }
   ],
   "source": [
    "%%timeit\n",
    "lumi_acc_sum = LumiAccumulator(events.run, events.luminosityBlock, auto_unique=False)\n",
    "for i in range(10):\n",
    "    lumi_acc_sum += LumiAccumulator(events.run, events.luminosityBlock, auto_unique=False)\n",
    "lumi_acc_sum.unique()"
   ]
  },
  {
   "cell_type": "code",
   "execution_count": null,
   "id": "e5026ec2",
   "metadata": {},
   "outputs": [],
   "source": []
  }
 ],
 "metadata": {
  "kernelspec": {
   "display_name": "Python 3 (ipykernel)",
   "language": "python",
   "name": "python3"
  },
  "language_info": {
   "codemirror_mode": {
    "name": "ipython",
    "version": 3
   },
   "file_extension": ".py",
   "mimetype": "text/x-python",
   "name": "python",
   "nbconvert_exporter": "python",
   "pygments_lexer": "ipython3",
   "version": "3.10.6"
  }
 },
 "nbformat": 4,
 "nbformat_minor": 5
}
