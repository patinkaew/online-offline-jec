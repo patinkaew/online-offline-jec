{
 "cells": [
  {
   "cell_type": "code",
   "execution_count": 1,
   "id": "d3424aab",
   "metadata": {},
   "outputs": [],
   "source": [
    "import sys\n",
    "import os\n",
    "sys.path.append(os.path.dirname(sys.path[0])) # append project directory to path for import\n",
    "os.chdir(os.path.dirname(sys.path[0])) # change current working directory to project directory\n",
    "\n",
    "%load_ext autoreload\n",
    "%autoreload 2"
   ]
  },
  {
   "cell_type": "code",
   "execution_count": 2,
   "id": "a47a4acb",
   "metadata": {},
   "outputs": [],
   "source": [
    "import processor\n",
    "from processor.accumulator import LumiAccumulator"
   ]
  },
  {
   "cell_type": "code",
   "execution_count": 3,
   "id": "b5650da3",
   "metadata": {},
   "outputs": [],
   "source": [
    "l1 = LumiAccumulator([1, 1], [2, 3], auto_unique=False)\n",
    "l2 = LumiAccumulator([1, 1, 8], [3, 4, 9])"
   ]
  },
  {
   "cell_type": "code",
   "execution_count": 4,
   "id": "e50b3eb8",
   "metadata": {},
   "outputs": [
    {
     "data": {
      "text/plain": [
       "array([[1, 2],\n",
       "       [1, 3],\n",
       "       [1, 3],\n",
       "       [1, 4],\n",
       "       [8, 9]])"
      ]
     },
     "execution_count": 4,
     "metadata": {},
     "output_type": "execute_result"
    }
   ],
   "source": [
    "l3 = (l1 + l2)\n",
    "#l3.unique()\n",
    "l3.array"
   ]
  },
  {
   "cell_type": "code",
   "execution_count": 5,
   "id": "d82bd8aa",
   "metadata": {},
   "outputs": [],
   "source": [
    "out1 = {\"lumi\": {\"JetMET\": l1}}\n",
    "out2 = {\"lumi\": {\"JetMET\": l2}}"
   ]
  },
  {
   "cell_type": "code",
   "execution_count": 6,
   "id": "e99e3b3e",
   "metadata": {},
   "outputs": [
    {
     "data": {
      "text/plain": [
       "<processor.accumulator.LumiAccumulator at 0x7ff7dde8f6d0>"
      ]
     },
     "execution_count": 6,
     "metadata": {},
     "output_type": "execute_result"
    }
   ],
   "source": [
    "l1 + l2"
   ]
  },
  {
   "cell_type": "code",
   "execution_count": 7,
   "id": "a50ea6c4",
   "metadata": {},
   "outputs": [
    {
     "ename": "NameError",
     "evalue": "name 'events' is not defined",
     "output_type": "error",
     "traceback": [
      "\u001b[0;31m---------------------------------------------------------------------------\u001b[0m",
      "\u001b[0;31mNameError\u001b[0m                                 Traceback (most recent call last)",
      "Cell \u001b[0;32mIn [7], line 1\u001b[0m\n\u001b[0;32m----> 1\u001b[0m events \u001b[38;5;241m=\u001b[39m \u001b[43mevents\u001b[49m[\u001b[38;5;28mself\u001b[39m\u001b[38;5;241m.\u001b[39mlumimask(events\u001b[38;5;241m.\u001b[39mrun, events\u001b[38;5;241m.\u001b[39mluminosityBlock)]\n\u001b[1;32m      2\u001b[0m cutflow[\u001b[38;5;124m\"\u001b[39m\u001b[38;5;124mlumimask\u001b[39m\u001b[38;5;124m\"\u001b[39m] \u001b[38;5;241m+\u001b[39m\u001b[38;5;241m=\u001b[39m \u001b[38;5;28mlen\u001b[39m(events)\n\u001b[1;32m      3\u001b[0m lumi_list \u001b[38;5;241m=\u001b[39m \u001b[38;5;28mlist\u001b[39m(\u001b[38;5;28mset\u001b[39m(\u001b[38;5;28mzip\u001b[39m(events\u001b[38;5;241m.\u001b[39mrun, events\u001b[38;5;241m.\u001b[39mluminosityBlock)))\n",
      "\u001b[0;31mNameError\u001b[0m: name 'events' is not defined"
     ]
    }
   ],
   "source": [
    "events = events[self.lumimask(events.run, events.luminosityBlock)]\n",
    "cutflow[\"lumimask\"] += len(events)\n",
    "lumi_list = list(set(zip(events.run, events.luminosityBlock))) # save processed lumi list"
   ]
  },
  {
   "cell_type": "code",
   "execution_count": 8,
   "id": "d875c74a",
   "metadata": {},
   "outputs": [],
   "source": [
    "import coffea"
   ]
  },
  {
   "cell_type": "code",
   "execution_count": 10,
   "id": "73ba94d6",
   "metadata": {},
   "outputs": [
    {
     "name": "stdout",
     "output_type": "stream",
     "text": [
      "0:04:28.083089\n"
     ]
    }
   ],
   "source": [
    "out_mc = coffea.util.load(\"coffea_output/AK4Puppi_HLT_comparison_correction_mc_test10.coffea\")\n",
    "print(out_mc[\"process_time\"])"
   ]
  },
  {
   "cell_type": "code",
   "execution_count": null,
   "id": "c171a7ef",
   "metadata": {},
   "outputs": [],
   "source": [
    "out_mc_lumiacc = coffea.util.load(\"coffea_output/AK4Puppi_HLT_comparison_correction_mc_test10.coffea\")"
   ]
  }
 ],
 "metadata": {
  "kernelspec": {
   "display_name": "Python 3 (ipykernel)",
   "language": "python",
   "name": "python3"
  },
  "language_info": {
   "codemirror_mode": {
    "name": "ipython",
    "version": 3
   },
   "file_extension": ".py",
   "mimetype": "text/x-python",
   "name": "python",
   "nbconvert_exporter": "python",
   "pygments_lexer": "ipython3",
   "version": "3.10.6"
  }
 },
 "nbformat": 4,
 "nbformat_minor": 5
}
